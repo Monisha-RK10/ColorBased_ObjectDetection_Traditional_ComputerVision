{
 "cells": [
  {
   "cell_type": "code",
   "execution_count": 8,
   "id": "de9b8fe7",
   "metadata": {},
   "outputs": [],
   "source": [
    "#detect objects in a video using HSV and color trackbars\n",
    "import cv2\n",
    "import numpy as np\n",
    "\n",
    "#capture video from the camera\n",
    "video = cv2.VideoCapture(0)\n",
    "\n",
    "#create a bin to store the output\n",
    "fourcc = cv2.VideoWriter_fourcc(*\"XVID\")\n",
    "output = cv2.VideoWriter(\"D:\\ComputerVision_Projects\\Image_Processing_1\\output\\object_detection.avi\", fourcc, 20.0, (400,400))\n",
    "\n",
    "#create an empty function\n",
    "def nothing(x):\n",
    "    pass\n",
    "\n",
    "#create a window to hold the options for the HSV\n",
    "cv2.namedWindow('ObjectDetection')\n",
    "\n",
    "#create trackbars for the HSV\n",
    "cv2.createTrackbar('switch','ObjectDetection',0,1,nothing)\n",
    "cv2.createTrackbar('lower_h','ObjectDetection',0,255,nothing)\n",
    "cv2.createTrackbar('lower_s','ObjectDetection',0,255,nothing)\n",
    "cv2.createTrackbar('lower_v','ObjectDetection',0,255,nothing)\n",
    "cv2.createTrackbar('upper_h','ObjectDetection',255,255,nothing)\n",
    "cv2.createTrackbar('upper_s','ObjectDetection',255,255,nothing)\n",
    "cv2.createTrackbar('upper_v','ObjectDetection',255,255,nothing)\n",
    "\n",
    "while video.read():\n",
    "    ret, frame = video.read()\n",
    "    if ret == True:\n",
    "        frame = cv2.resize(frame,(400,400))\n",
    "        frame_hsv = cv2.cvtColor(frame,cv2.COLOR_BGR2HSV)\n",
    "        \n",
    "        \n",
    "        #access the status of the switch\n",
    "        switch = cv2.getTrackbarPos('switch','ObjectDetection')\n",
    "        \n",
    "        #implement the code for what happens when switch is ON/OFF\n",
    "        if switch == 0:\n",
    "            cv2.imshow(\"frame\",frame)\n",
    "        else:\n",
    "            \n",
    "            #get the status of all the options of HSV\n",
    "            lower_h = cv2.getTrackbarPos('lower_h','ObjectDetection')\n",
    "            lower_s = cv2.getTrackbarPos('lower_s','ObjectDetection')\n",
    "            lower_v = cv2.getTrackbarPos('lower_v','ObjectDetection')\n",
    "            upper_h = cv2.getTrackbarPos('upper_h','ObjectDetection')\n",
    "            upper_s = cv2.getTrackbarPos('upper_s','ObjectDetection')\n",
    "            upper_v = cv2.getTrackbarPos('upper_v','ObjectDetection')\n",
    "            \n",
    "            #create a mask\n",
    "            lower_range = np.array([lower_h, lower_s, lower_v])\n",
    "            upper_range = np.array([upper_h, upper_s, upper_v])\n",
    "            frame_mask = cv2.inRange(frame_hsv, lower_range, upper_range)\n",
    "            \n",
    "            #filter the frame with the mask\n",
    "            frame_filter = cv2.bitwise_and(frame, frame, mask=frame_mask)\n",
    "            output.write(frame_filter)\n",
    "            cv2.imshow(\"frame\",frame)\n",
    "            cv2.imshow(\"frame_filter\",frame_filter)\n",
    "            \n",
    "        if cv2.waitKey(1) == ord('q'):\n",
    "            break\n",
    "            \n",
    "#release output and window\n",
    "video.release()\n",
    "output.release()\n",
    "cv2.destroyAllWindows()"
   ]
  }
 ],
 "metadata": {
  "kernelspec": {
   "display_name": "Python 3",
   "language": "python",
   "name": "python3"
  },
  "language_info": {
   "codemirror_mode": {
    "name": "ipython",
    "version": 3
   },
   "file_extension": ".py",
   "mimetype": "text/x-python",
   "name": "python",
   "nbconvert_exporter": "python",
   "pygments_lexer": "ipython3",
   "version": "3.8.8"
  },
  "varInspector": {
   "cols": {
    "lenName": 16,
    "lenType": 16,
    "lenVar": 40
   },
   "kernels_config": {
    "python": {
     "delete_cmd_postfix": "",
     "delete_cmd_prefix": "del ",
     "library": "var_list.py",
     "varRefreshCmd": "print(var_dic_list())"
    },
    "r": {
     "delete_cmd_postfix": ") ",
     "delete_cmd_prefix": "rm(",
     "library": "var_list.r",
     "varRefreshCmd": "cat(var_dic_list()) "
    }
   },
   "types_to_exclude": [
    "module",
    "function",
    "builtin_function_or_method",
    "instance",
    "_Feature"
   ],
   "window_display": false
  }
 },
 "nbformat": 4,
 "nbformat_minor": 5
}
